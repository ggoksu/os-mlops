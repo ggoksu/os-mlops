{
 "cells": [
  {
   "cell_type": "code",
   "execution_count": null,
   "id": "fd48db30-205c-4458-8f84-2e55599db6a3",
   "metadata": {},
   "outputs": [],
   "source": [
    "from image_preprocessing import preprocess\n",
    "from object_detection import detect_objects\n",
    "from object_rendering import draw_boxes"
   ]
  },
  {
   "cell_type": "code",
   "execution_count": null,
   "id": "7fdb0c99-f997-48a8-b0ae-7b858fb4ba58",
   "metadata": {},
   "outputs": [],
   "source": [
    "image_path = './sample-images/zidane.jpg'\n",
    "\n",
    "prediction_url = ''"
   ]
  },
  {
   "cell_type": "code",
   "execution_count": null,
   "id": "9340c36e-0fa6-484a-95ca-9425943b9d4b",
   "metadata": {},
   "outputs": [],
   "source": [
    "image_data, ratio, dwdh = preprocess(image_path)\n",
    "objects = detect_objects(\n",
    "    image_data, prediction_url, token='', confidence_threshold=0.2\n",
    ")\n",
    "draw_boxes(image_path, objects, ratio, dwdh)"
   ]
  },
  {
   "cell_type": "code",
   "execution_count": null,
   "id": "a0fb8fc9-3800-446f-847b-d97fa52b8738",
   "metadata": {},
   "outputs": [],
   "source": []
  }
 ],
 "metadata": {
  "kernelspec": {
   "display_name": "Python 3.9.16",
   "language": "python",
   "name": "python3"
  },
  "language_info": {
   "codemirror_mode": {
    "name": "ipython",
    "version": 3
   },
   "file_extension": ".py",
   "mimetype": "text/x-python",
   "name": "python",
   "nbconvert_exporter": "python",
   "pygments_lexer": "ipython3",
   "version": "3.9.16"
  }
 },
 "nbformat": 4,
 "nbformat_minor": 5
}
