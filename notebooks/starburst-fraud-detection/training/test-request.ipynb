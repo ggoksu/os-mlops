{
 "cells": [
  {
   "cell_type": "code",
   "execution_count": 28,
   "id": "427da5de-4555-4014-85ce-8db1f57f8f12",
   "metadata": {},
   "outputs": [],
   "source": [
    "from pprint import pprint\n",
    "\n",
    "from requests import post"
   ]
  },
  {
   "cell_type": "code",
   "execution_count": 29,
   "id": "4399bfcc-abc0-44f1-82dd-4ded81057f73",
   "metadata": {},
   "outputs": [],
   "source": [
    "prediction_url = 'https://testtest-fraud-detection.apps.cluster-rb29x.rb29x.sandbox2896.opentlc.com/v2/models/testtest/infer'"
   ]
  },
  {
   "cell_type": "code",
   "execution_count": 31,
   "id": "42d17db6-abef-4044-b3e7-df89d817475e",
   "metadata": {},
   "outputs": [
    {
     "name": "stdout",
     "output_type": "stream",
     "text": [
      "{'code': 2,\n",
      " 'message': 'inference.GRPCInferenceService/ModelInfer: UNKNOWN: Unexpected '\n",
      "            \"<class 'ValueError'>: Specifying the columns using strings is \"\n",
      "            'only supported for pandas DataFrames'}\n"
     ]
    }
   ],
   "source": [
    "sample = [\n",
    "    3858,  # user_id\n",
    "    20,  # amount\n",
    "    8210,  # merchant_id\n",
    "    5111,  # interarrival\n",
    "]\n",
    "\n",
    "payload = {\n",
    "    \"parameters\": {\"content_type\": \"pd\"},\n",
    "    'inputs': [\n",
    "        {\n",
    "            'name': 'inputs',\n",
    "            'shape': [1, 4],\n",
    "            'datatype': 'UINT8',\n",
    "            'data': sample,\n",
    "        }\n",
    "    ]\n",
    "}\n",
    "\n",
    "response = post(prediction_url, json=payload)\n",
    "pprint(response.json())"
   ]
  },
  {
   "cell_type": "code",
   "execution_count": 9,
   "id": "e5e2d739-fca5-4d60-ab2b-ff46b95cddc3",
   "metadata": {},
   "outputs": [
    {
     "name": "stdout",
     "output_type": "stream",
     "text": [
      "{'code': 3,\n",
      " 'message': 'inference.GRPCInferenceService/ModelInfer: INVALID_ARGUMENT: '\n",
      "            'SKLearnModel only supports a single input tensor (4 were '\n",
      "            'received)'}\n"
     ]
    }
   ],
   "source": [
    "sample = [\n",
    "    1698,  # user_id\n",
    "    7915,  # amount\n",
    "    'contactless',  # trans_type\n",
    "    False,  # foreign\n",
    "    9609,  # interarrival\n",
    "]\n",
    "\n",
    "payload = {\n",
    "    \"parameters\": {\"content_type\": \"pd\"},\n",
    "    'inputs': [\n",
    "        {\n",
    "            'name': 'user_id',\n",
    "            'shape': [1, 1],\n",
    "            'datatype': 'UINT16',\n",
    "            'data': [sample[0]],\n",
    "        },\n",
    "        {\n",
    "            'name': 'amount',\n",
    "            'shape': [1, 1],\n",
    "            'datatype': 'FP32',\n",
    "            'data': [sample[1]],\n",
    "        },\n",
    "        #{\n",
    "        #    'name': 'trans_type',\n",
    "        #    'shape': [1, 1],\n",
    "        #    'datatype': 'BYTES',\n",
    "        #    'data': [sample[2]],\n",
    "        #},\n",
    "        {\n",
    "            'name': 'foreign',\n",
    "            'shape': [1, 1],\n",
    "            'datatype': 'BOOL',\n",
    "            'data': [sample[3]],\n",
    "        },\n",
    "        {\n",
    "            'name': 'interarrival',\n",
    "            'shape': [1, 1],\n",
    "            'datatype': 'UINT16',\n",
    "            'data': [sample[4]],\n",
    "        },\n",
    "    ]\n",
    "}\n",
    "\n",
    "response = post(prediction_url, json=payload)\n",
    "pprint(response.json())"
   ]
  },
  {
   "cell_type": "code",
   "execution_count": null,
   "id": "9ec82106-92bf-4486-a022-a7628b1022dc",
   "metadata": {},
   "outputs": [],
   "source": []
  }
 ],
 "metadata": {
  "kernelspec": {
   "display_name": "Python 3.8.13",
   "language": "python",
   "name": "python3"
  },
  "language_info": {
   "codemirror_mode": {
    "name": "ipython",
    "version": 3
   },
   "file_extension": ".py",
   "mimetype": "text/x-python",
   "name": "python",
   "nbconvert_exporter": "python",
   "pygments_lexer": "ipython3",
   "version": "3.8.13"
  },
  "vscode": {
   "interpreter": {
    "hash": "e7370f93d1d0cde622a1f8e1c04877d8463912d04d973331ad4851f04de6915a"
   }
  }
 },
 "nbformat": 4,
 "nbformat_minor": 5
}
